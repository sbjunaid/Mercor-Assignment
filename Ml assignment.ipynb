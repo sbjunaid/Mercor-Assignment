{
 "cells": [
  {
   "cell_type": "markdown",
   "metadata": {},
   "source": [
    "Import Libraries\n"
   ]
  },
  {
   "cell_type": "code",
   "execution_count": null,
   "metadata": {},
   "outputs": [],
   "source": [
    "import pandas as pd\n",
    "from sklearn.model_selection import train_test_split\n",
    "from sklearn.metrics import accuracy_score\n",
    "from transformers import BertTokenizer, BertModel\n",
    "import torch\n",
    "import xgboost as xgb\n",
    "\n"
   ]
  },
  {
   "cell_type": "markdown",
   "metadata": {},
   "source": [
    "Load and Preprocess Data"
   ]
  },
  {
   "cell_type": "code",
   "execution_count": null,
   "metadata": {},
   "outputs": [],
   "source": [
    "# Load your dataset\n",
    "df = pd.read_csv('train_dataset.csv')\n",
    "\n",
    "# Example preprocessing\n",
    "object_columns = [col for col in df.columns if df[col].dtype == 'object']\n",
    "df[object_columns] = df[object_columns].apply(lambda x: x.astype('category').cat.codes)\n",
    "\n",
    "# Split data into features and target\n",
    "X = df[['candidateATranscript', 'candidateBTranscript', 'role', 'candidateAResumeData', 'candidateBResumeData']]\n",
    "y = df['winnerId']\n",
    "\n",
    "# Convert labels to binary (assuming winnerId is categorical with two possible values)\n",
    "y = (y == 'candidateA').astype(int)  # Example conversion\n",
    "\n",
    "# Split into training and test sets\n",
    "X_train, X_test, y_train, y_test = train_test_split(X, y, test_size=0.2, random_state=42)\n"
   ]
  },
  {
   "cell_type": "markdown",
   "metadata": {},
   "source": [
    "Tokenize and Embed Text Data"
   ]
  },
  {
   "cell_type": "code",
   "execution_count": null,
   "metadata": {},
   "outputs": [],
   "source": [
    "# Load BERT tokenizer and model\n",
    "tokenizer = BertTokenizer.from_pretrained('bert-base-uncased')\n",
    "model = BertModel.from_pretrained('bert-base-uncased')\n",
    "\n",
    "def embed_text(texts):\n",
    "    inputs = tokenizer(texts, padding=True, truncation=True, return_tensors=\"pt\")\n",
    "    with torch.no_grad():\n",
    "        outputs = model(**inputs)\n",
    "    return outputs.last_hidden_state.mean(dim=1).numpy()\n",
    "\n",
    "# Example of embedding text columns\n",
    "X_train_embeddings = embed_text(X_train['candidateATranscript'].tolist())\n",
    "X_test_embeddings = embed_text(X_test['candidateATranscript'].tolist())\n"
   ]
  },
  {
   "cell_type": "markdown",
   "metadata": {},
   "source": [
    "Train the Model"
   ]
  },
  {
   "cell_type": "code",
   "execution_count": null,
   "metadata": {},
   "outputs": [],
   "source": [
    "# Combine embeddings with other features\n",
    "X_train_features = pd.concat([pd.DataFrame(X_train_embeddings), X_train[['role']].reset_index(drop=True)], axis=1)\n",
    "X_test_features = pd.concat([pd.DataFrame(X_test_embeddings), X_test[['role']].reset_index(drop=True)], axis=1)\n",
    "\n",
    "# Train XGBoost model\n",
    "model_xgb = xgb.XGBClassifier()\n",
    "model_xgb.fit(X_train_features, y_train)\n"
   ]
  },
  {
   "cell_type": "markdown",
   "metadata": {},
   "source": [
    "Evaluate the Model"
   ]
  },
  {
   "cell_type": "code",
   "execution_count": null,
   "metadata": {},
   "outputs": [],
   "source": [
    "# Predict and evaluate\n",
    "y_pred = model_xgb.predict(X_test_features)\n",
    "accuracy = accuracy_score(y_test, y_pred)\n",
    "print(f'Accuracy: {accuracy:.4f}')\n"
   ]
  },
  {
   "cell_type": "markdown",
   "metadata": {},
   "source": [
    "For Making Predictions on New Data"
   ]
  },
  {
   "cell_type": "code",
   "execution_count": null,
   "metadata": {},
   "outputs": [],
   "source": [
    "# Example function to preprocess and embed new text data\n",
    "def preprocess_and_embed(new_data):\n",
    "    \n",
    "    new_embeddings = embed_text(new_data['candidateATranscript'].tolist())\n",
    "\n",
    "    new_features = pd.concat([pd.DataFrame(new_embeddings), new_data[['role']].reset_index(drop=True)], axis=1)\n",
    "    return new_features\n",
    "\n",
    "# Load new data\n",
    "new_data = pd.read_csv('test_dataset.csv')\n",
    "\n",
    "# Preprocess and embed new data\n",
    "new_data_features = preprocess_and_embed(new_data)\n",
    "\n",
    "\n",
    "# Predict with the trained model\n",
    "new_predictions = model_xgb.predict(new_data_features)\n",
    "print(new_predictions)\n"
   ]
  },
  {
   "cell_type": "markdown",
   "metadata": {},
   "source": [
    "Saving and Loading Models"
   ]
  },
  {
   "cell_type": "code",
   "execution_count": null,
   "metadata": {},
   "outputs": [],
   "source": [
    "# Save the trained model\n",
    "model_xgb.save_model('path')\n",
    "\n",
    "# Load the trained model\n",
    "model_xgb = xgb.XGBClassifier()\n",
    "model_xgb.load_model('path')\n"
   ]
  }
 ],
 "metadata": {
  "kernelspec": {
   "display_name": "Python 3",
   "language": "python",
   "name": "python3"
  },
  "language_info": {
   "codemirror_mode": {
    "name": "ipython",
    "version": 3
   },
   "file_extension": ".py",
   "mimetype": "text/x-python",
   "name": "python",
   "nbconvert_exporter": "python",
   "pygments_lexer": "ipython3",
   "version": "3.10.7"
  }
 },
 "nbformat": 4,
 "nbformat_minor": 2
}
